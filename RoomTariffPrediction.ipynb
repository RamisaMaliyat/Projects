{
  "nbformat": 4,
  "nbformat_minor": 0,
  "metadata": {
    "colab": {
      "provenance": []
    },
    "kernelspec": {
      "name": "python3",
      "display_name": "Python 3"
    },
    "language_info": {
      "name": "python"
    }
  },
  "cells": [
    {
      "cell_type": "code",
      "execution_count": null,
      "metadata": {
        "id": "NPqV6AzQKSoV"
      },
      "outputs": [],
      "source": [
        "import pandas as pd\n",
        "import numpy as np"
      ]
    },
    {
      "cell_type": "code",
      "source": [
        "from google.colab import files\n",
        "\n",
        "uploaded = files.upload()\n",
        "\n",
        "for fn in uploaded.keys():\n",
        "  print('User uploaded file \"{name}\" with length {length} bytes'.format(\n",
        "      name=fn, length=len(uploaded[fn])))"
      ],
      "metadata": {
        "colab": {
          "resources": {
            "http://localhost:8080/nbextensions/google.colab/files.js": {
              "data": "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",
              "ok": true,
              "headers": [
                [
                  "content-type",
                  "application/javascript"
                ]
              ],
              "status": 200,
              "status_text": ""
            }
          },
          "base_uri": "https://localhost:8080/",
          "height": 91
        },
        "id": "PVAb7O8eKflU",
        "outputId": "58b0a43b-3a3a-4c68-9a4e-2053734608ac"
      },
      "execution_count": null,
      "outputs": [
        {
          "output_type": "display_data",
          "data": {
            "text/html": [
              "\n",
              "     <input type=\"file\" id=\"files-0d6559c3-8643-4a1d-b217-fbbc422af5bf\" name=\"files[]\" multiple disabled\n",
              "        style=\"border:none\" />\n",
              "     <output id=\"result-0d6559c3-8643-4a1d-b217-fbbc422af5bf\">\n",
              "      Upload widget is only available when the cell has been executed in the\n",
              "      current browser session. Please rerun this cell to enable.\n",
              "      </output>\n",
              "      <script src=\"/nbextensions/google.colab/files.js\"></script> "
            ],
            "text/plain": [
              "<IPython.core.display.HTML object>"
            ]
          },
          "metadata": {}
        },
        {
          "output_type": "stream",
          "name": "stdout",
          "text": [
            "Saving RoomTariffPrediction .csv to RoomTariffPrediction .csv\n",
            "User uploaded file \"RoomTariffPrediction .csv\" with length 15971 bytes\n"
          ]
        }
      ]
    },
    {
      "cell_type": "code",
      "source": [],
      "metadata": {
        "id": "RSUm1ZFpk0MJ"
      },
      "execution_count": null,
      "outputs": []
    },
    {
      "cell_type": "code",
      "source": [
        "df = pd.read_csv('RoomTariffPrediction .csv') "
      ],
      "metadata": {
        "id": "s0ViVNx7KjaV"
      },
      "execution_count": null,
      "outputs": []
    },
    {
      "cell_type": "code",
      "source": [
        "df.shape"
      ],
      "metadata": {
        "colab": {
          "base_uri": "https://localhost:8080/"
        },
        "id": "eRB-6BxmKxFN",
        "outputId": "e83fb6ad-3a1f-4d15-846a-cd6466084f60"
      },
      "execution_count": null,
      "outputs": [
        {
          "output_type": "execute_result",
          "data": {
            "text/plain": [
              "(300, 11)"
            ]
          },
          "metadata": {},
          "execution_count": 5
        }
      ]
    },
    {
      "cell_type": "code",
      "source": [
        "df.head"
      ],
      "metadata": {
        "colab": {
          "base_uri": "https://localhost:8080/"
        },
        "id": "fDkpoCFLK4ej",
        "outputId": "4379873f-b09f-437b-80b0-0ac670570919"
      },
      "execution_count": null,
      "outputs": [
        {
          "output_type": "execute_result",
          "data": {
            "text/plain": [
              "<bound method NDFrame.head of      PlaceName IsTouristSpot  Distance from Airport/touristSpot(km)  \\\n",
              "0    Bandarban           Yes                                   0.45   \n",
              "1    Bandarban           Yes                                   0.45   \n",
              "2    Bandarban           Yes                                  16.80   \n",
              "3    Bandarban           Yes                                  16.80   \n",
              "4    Bandarban            No                                   3.00   \n",
              "..         ...           ...                                    ...   \n",
              "295     Sylhet            No                                  40.55   \n",
              "296     Sylhet            No                                  41.00   \n",
              "297     Sylhet           Yes                                  56.48   \n",
              "298     Sylhet           Yes                                  56.48   \n",
              "299     Sylhet           Yes                                  56.48   \n",
              "\n",
              "     StarRating HasSwimmingPool RoomType   RoomView HasRefrigerator  \\\n",
              "0           3.0              No   Double  Hill View              No   \n",
              "1           3.0              No   Triple  Hill View              No   \n",
              "2           3.0              No     Twin  Hill View              No   \n",
              "3           3.0              No   Triple  Hill View              No   \n",
              "4           3.0              No   Single  City View             Yes   \n",
              "..          ...             ...      ...        ...             ...   \n",
              "295         4.0             Yes   Double       None             Yes   \n",
              "296         5.0             Yes   Triple  Hill View             Yes   \n",
              "297         4.0             Yes   Single       None             Yes   \n",
              "298         4.0             Yes   Double       None             Yes   \n",
              "299         4.0             Yes     Twin       None             Yes   \n",
              "\n",
              "    HasBalcony GymFacilities  Rent(Per Day)  \n",
              "0          Yes            No           3439  \n",
              "1          Yes            No           4299  \n",
              "2          Yes            No           5675  \n",
              "3          Yes            No           7910  \n",
              "4          Yes           Yes           3520  \n",
              "..         ...           ...            ...  \n",
              "295         No            No           7427  \n",
              "296        Yes           Yes           5250  \n",
              "297        Yes           Yes           6519  \n",
              "298        Yes           Yes           8781  \n",
              "299        Yes           Yes           8319  \n",
              "\n",
              "[300 rows x 11 columns]>"
            ]
          },
          "metadata": {},
          "execution_count": 6
        }
      ]
    },
    {
      "cell_type": "code",
      "source": [
        "X=df.drop('Rent(Per Day)',axis=1)\n",
        "#separte the predicting attribute into Y for model training \n",
        "y=df['Rent(Per Day)']\n",
        "from sklearn.model_selection import train_test_split\n",
        "X_train, X_test, Y_train, Y_test = train_test_split(X, y, test_size = 0.2, random_state =0)"
      ],
      "metadata": {
        "id": "_UeH_4bsLEZi"
      },
      "execution_count": null,
      "outputs": []
    },
    {
      "cell_type": "code",
      "source": [
        "temp={'PlaceName':['Bandarban','Gulshan','Dhaka','Chittagong','Cox\\'s Bazar','Rajshahi','Rangamati','Sreemangal','Sylhet']}\n",
        "#df=pd.DataFrame(temp,columns=[\"PlaceName\"])\n",
        "temp_dict={'Bandarban':3,'Gulshan':5,'Dhaka':3,'Chittagong':3,'Cox\\'s Bazar':4,'Rajshahi':1,'Rangamati':4,'Sreemangal':4,'Sylhet':2}\n",
        "df[\"PlaceName\"]=df.PlaceName.map(temp_dict)\n",
        "#df\n",
        "\n",
        "temp={'IsTouristSpot':['Yes','No']}\n",
        "#df=pd.DataFrame(temp,columns=[\"PlaceName\"])\n",
        "temp_dict={'Yes':1,'No':0}\n",
        "df[\"IsTouristSpot\"]=df.IsTouristSpot.map(temp_dict)\n",
        "#df\n",
        "\n",
        "temp={'HasSwimmingPool':['Yes','No']}\n",
        "#df=pd.DataFrame(temp,columns=[\"PlaceName\"])\n",
        "temp_dict={'Yes':1,'No':0}\n",
        "df[\"HasSwimmingPool\"]=df.HasSwimmingPool.map(temp_dict)\n",
        "#df\n",
        "\n",
        "temp={'GymFacilities':['Yes','No']}\n",
        "#df=pd.DataFrame(temp,columns=[\"HasRefrigerator\"])\n",
        "temp_dict={'Yes':1,'No':0}\n",
        "df[\"GymFacilities\"]=df.GymFacilities.map(temp_dict)\n",
        "\n",
        "temp={'HasBalcony':['Yes','No']}\n",
        "#df=pd.DataFrame(temp,columns=[\"HasRefrigerator\"])\n",
        "temp_dict={'Yes':1,'No':0}\n",
        "df[\"HasBalcony\"]=df.HasBalcony.map(temp_dict)\n",
        "\n",
        "temp={'HasRefrigerator':['Yes','No']}\n",
        "#df=pd.DataFrame(temp,columns=[\"HasRefrigerator\"])\n",
        "temp_dict={'Yes':1,'No':0}\n",
        "df[\"HasRefrigerator\"]=df.HasRefrigerator.map(temp_dict)\n",
        "#df\n",
        "\n",
        "temp={'RoomType':['Single','Double','Triple','Quadruple','Twin','Suite']}\n",
        "#df=pd.DataFrame(temp,columns=[\"PlaceName\"])\n",
        "temp_dict={'Single':1,'Double':2,'Triple':3,'Quadruple':5,'Twin':4,'Suite':6}\n",
        "df[\"RoomType\"]=df.RoomType.map(temp_dict)\n",
        "#df\n",
        "\n",
        "temp={'RoomView':['None','City View','Hill View','Sea View','Lake View']}\n",
        "#df=pd.DataFrame(temp,columns=[\"PlaceName\"])\n",
        "temp_dict={'None':1,'City View':2,'Hill View':4,'Sea View':5,'Lake View':3}\n",
        "df[\"RoomView\"]=df.RoomView.map(temp_dict)\n",
        "#df\n",
        "\n",
        "#separate the other attributes from the predicting attribute\n",
        "x=df.drop('Rent(Per Day)',axis=1)\n",
        "#separte the predicting attribute into Y for model training \n",
        "y=df['Rent(Per Day)']\n",
        "#x"
      ],
      "metadata": {
        "id": "jGfvENCTNONy"
      },
      "execution_count": null,
      "outputs": []
    },
    {
      "cell_type": "code",
      "source": [
        "from sklearn import preprocessing\n",
        "le = preprocessing.LabelEncoder()\n",
        "le.fit(Y_train)\n"
      ],
      "metadata": {
        "colab": {
          "base_uri": "https://localhost:8080/"
        },
        "id": "koJ8AhsMVtzS",
        "outputId": "499b7ad7-ecff-43e6-8a10-5a401c8f4d3d"
      },
      "execution_count": null,
      "outputs": [
        {
          "output_type": "execute_result",
          "data": {
            "text/plain": [
              "LabelEncoder()"
            ]
          },
          "metadata": {},
          "execution_count": 33
        }
      ]
    },
    {
      "cell_type": "code",
      "source": [
        "le.classes_"
      ],
      "metadata": {
        "colab": {
          "base_uri": "https://localhost:8080/"
        },
        "id": "h1mZtKuwYaza",
        "outputId": "daf00bd3-4669-42a1-de50-f3dd03682316"
      },
      "execution_count": null,
      "outputs": [
        {
          "output_type": "execute_result",
          "data": {
            "text/plain": [
              "array([  812,  1000,  1118,  1163,  1201,  1204,  1238,  1283,  1393,\n",
              "        1513,  1569,  1582,  1669,  1776,  1797,  1803,  1888,  1948,\n",
              "        1977,  2000,  2017,  2063,  2065,  2099,  2146,  2150,  2199,\n",
              "        2200,  2235,  2318,  2407,  2424,  2485,  2489,  2493,  2534,\n",
              "        2575,  2576,  2579,  2598,  2660,  2662,  2681,  2708,  2800,\n",
              "        2833,  2837,  2961,  3010,  3020,  3039,  3091,  3095,  3139,\n",
              "        3181,  3193,  3198,  3200,  3234,  3262,  3267,  3300,  3320,\n",
              "        3342,  3348,  3353,  3439,  3452,  3500,  3513,  3519,  3520,\n",
              "        3525,  3606,  3611,  3624,  3675,  3688,  3777,  3900,  3907,\n",
              "        3950,  4000,  4032,  4035,  4126,  4244,  4269,  4291,  4299,\n",
              "        4322,  4405,  4463,  4471,  4643,  4730,  4744,  4877,  4930,\n",
              "        4970,  4987,  5050,  5080,  5094,  5128,  5150,  5158,  5187,\n",
              "        5237,  5250,  5262,  5350,  5400,  5481,  5530,  5582,  5610,\n",
              "        5675,  5804,  5861,  5890,  5900,  5980,  6190,  6250,  6363,\n",
              "        6500,  6519,  6523,  6601,  6641,  6675,  6700,  6735,  6755,\n",
              "        6900,  7125,  7325,  7350,  7371,  7427,  7461,  7550,  7725,\n",
              "        7900,  7910,  7911,  7925,  8130,  8155,  8202,  8319,  8500,\n",
              "        8555,  8597,  8716,  8735,  8900,  9100,  9450,  9500,  9527,\n",
              "        9535,  9673,  9700,  9790, 10228, 10310, 10496, 10512, 10790,\n",
              "       10901, 11134, 11177, 11200, 11398, 11549, 11587, 11900, 12200,\n",
              "       12467, 12500, 12650, 12881, 13670, 13733, 13894, 14463, 14760,\n",
              "       14937, 15192, 15350, 15500, 15973, 16512, 17000, 17055, 17500,\n",
              "       18368, 18500, 19500, 19599, 20000, 20344, 22000, 22339, 25400,\n",
              "       27000, 30000, 30159, 37945, 50000])"
            ]
          },
          "metadata": {},
          "execution_count": 34
        }
      ]
    },
    {
      "cell_type": "code",
      "source": [
        "le.transform(Y_train)"
      ],
      "metadata": {
        "colab": {
          "base_uri": "https://localhost:8080/"
        },
        "id": "pXNbyHQ2Ycvh",
        "outputId": "995956ce-42cd-4d34-fd77-03fa3a3243b2"
      },
      "execution_count": null,
      "outputs": [
        {
          "output_type": "execute_result",
          "data": {
            "text/plain": [
              "array([ 28,  43, 186, 127, 170, 180, 156, 119,  21,   8, 174, 126, 204,\n",
              "        37,  79, 195, 192, 112, 108,  23, 184, 136,  17, 164,  69, 148,\n",
              "         7, 187, 124,  53,  95,  44,  65,  90,  96,  61, 200,  81,  38,\n",
              "        31, 111,   1,  40, 188,  15, 178, 203, 135, 163, 103,  25,   9,\n",
              "        51, 146, 159, 151,  14,  45,  45, 166,  91,  57,   0, 208,  68,\n",
              "       149,  98,  29, 202,  32,  71, 106,  77, 190,  72,  13, 123, 193,\n",
              "       147, 181,  38, 196,  72, 116,  71, 115,  62, 134,  10, 161, 211,\n",
              "       131, 105, 107, 197,  49,  33, 114, 162, 177, 201,   3,  80, 132,\n",
              "        86,  27, 160, 209,  88, 172,  60,  87,  89,   5,  26, 179, 198,\n",
              "       120,  84,  47,  55, 141,  36,  95,  58, 155,  70, 109,  36,  39,\n",
              "       129,  11, 208,   2, 140,  35,  74,  94,  54,  72, 110,  93, 190,\n",
              "       113, 169, 150,  85,  19,  99,  59,  30, 128, 144,  71, 171, 122,\n",
              "        75,  76,  78,  52,  50, 185, 121,  73,  78, 206,   6, 107,  35,\n",
              "        41, 204,  12,  92,  64, 126, 165,  63,  78,  66, 118, 168,  46,\n",
              "       152,  34,  46,  20,  22,  42,  48, 123, 137, 207,  18, 157, 210,\n",
              "        33, 195, 138,  79, 189, 104, 101, 100, 173, 181, 130, 153, 117,\n",
              "        56,  96, 202, 140, 175, 145, 143, 158,  59, 102, 176,   4,  82,\n",
              "       139,  97, 194, 182, 109,  83, 167, 199, 183, 142,  65, 205,  67,\n",
              "        24, 125,  16, 154, 133, 191])"
            ]
          },
          "metadata": {},
          "execution_count": 35
        }
      ]
    },
    {
      "cell_type": "code",
      "source": [
        "pd.Series(le.transform(Y_train))"
      ],
      "metadata": {
        "colab": {
          "base_uri": "https://localhost:8080/"
        },
        "id": "75xhMg6VYri4",
        "outputId": "a210c311-0488-4628-a603-52db7d883375"
      },
      "execution_count": null,
      "outputs": [
        {
          "output_type": "execute_result",
          "data": {
            "text/plain": [
              "0       28\n",
              "1       43\n",
              "2      186\n",
              "3      127\n",
              "4      170\n",
              "      ... \n",
              "235    125\n",
              "236     16\n",
              "237    154\n",
              "238    133\n",
              "239    191\n",
              "Length: 240, dtype: int64"
            ]
          },
          "metadata": {},
          "execution_count": 37
        }
      ]
    },
    {
      "cell_type": "code",
      "source": [
        "from sklearn.linear_model import Lasso\n",
        "model_lasso = Lasso(alpha=0.01)\n",
        "model_lasso.fit(X_train, Y_train) \n",
        "pred_train_lasso= model_lasso.predict(X_train)\n"
      ],
      "metadata": {
        "id": "A4N2PYIILxCC"
      },
      "execution_count": null,
      "outputs": []
    },
    {
      "cell_type": "code",
      "source": [
        "\n",
        "\n",
        "from sklearn.metrics import r2_score\n",
        "from sklearn.model_selection import train_test_split\n",
        "from sklearn.metrics import mean_squared_error\n",
        "from sklearn.metrics import mean_absolute_error\n",
        "\n",
        "from math import sqrt\n",
        "\n",
        "\n",
        "\n",
        "pred_test_lasso= model_lasso.predict(X_test)\n",
        "print('Root Mean Squared Error:',np.sqrt(mean_squared_error(Y_test,pred_test_lasso))) \n",
        "print('Mean Absolute Error:',mean_absolute_error(Y_test,pred_test_lasso)) \n",
        "print('Mean Squared Error:',mean_squared_error(Y_test,pred_test_lasso))\n",
        "print('r2 socre =',r2_score(Y_test, pred_test_lasso))"
      ],
      "metadata": {
        "colab": {
          "base_uri": "https://localhost:8080/"
        },
        "id": "l-5CXODoaZE4",
        "outputId": "70e5a8fc-169f-4bb2-8150-632fcf5790b7"
      },
      "execution_count": null,
      "outputs": [
        {
          "output_type": "stream",
          "name": "stdout",
          "text": [
            "Root Mean Squared Error: 8089.2013225109085\n",
            "Mean Absolute Error: 4721.1706794194815\n",
            "Mean Squared Error: 65435178.036112234\n",
            "r2 socre = 0.2665838372215579\n"
          ]
        }
      ]
    },
    {
      "cell_type": "code",
      "source": [
        "#Import svm model\n",
        "from sklearn import svm\n",
        "\n",
        "#Create a svm Classifier\n",
        "clf = svm.SVC(kernel='linear') # Linear Kernel\n",
        "\n",
        "#Train the model using the training sets\n",
        "clf.fit(X_train, Y_train)\n",
        "\n",
        "#Predict the response for test dataset\n",
        "y_pred = clf.predict(X_test)"
      ],
      "metadata": {
        "id": "cpQJmHd2iRht"
      },
      "execution_count": null,
      "outputs": []
    },
    {
      "cell_type": "code",
      "source": [
        "print('r2 socre =',r2_score(Y_test, y_pred))\n",
        "print('Mean Squared Error:',mean_squared_error(Y_test, y_pred))\n",
        "print('Mean Absolute Error:',mean_absolute_error(Y_test, y_pred))\n",
        "print('Root Mean Squared Error:',np.sqrt(mean_squared_error(Y_test, y_pred)))"
      ],
      "metadata": {
        "colab": {
          "base_uri": "https://localhost:8080/"
        },
        "id": "EMeZePz6js3M",
        "outputId": "31f9b4dd-6301-46a8-984d-da010681fccb"
      },
      "execution_count": null,
      "outputs": [
        {
          "output_type": "stream",
          "name": "stdout",
          "text": [
            "r2 socre = 0.2112077141025941\n",
            "Mean Squared Error: 70375819.73333333\n",
            "Mean Absolute Error: 4061.9666666666667\n",
            "Root Mean Squared Error: 8389.029725381437\n"
          ]
        }
      ]
    }
  ]
}